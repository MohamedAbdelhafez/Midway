{
 "cells": [
  {
   "cell_type": "code",
   "execution_count": 1,
   "metadata": {
    "collapsed": false
   },
   "outputs": [
    {
     "name": "stdout",
     "output_type": "stream",
     "text": [
      "0.994400024414\n"
     ]
    }
   ],
   "source": [
    "from __future__ import absolute_import\n",
    "from __future__ import division\n",
    "from __future__ import print_function\n",
    "\n",
    "import argparse\n",
    "import sys\n",
    "import numpy as np\n",
    "import os,sys,inspect\n",
    "currentdir = os.path.dirname(os.path.abspath(inspect.getfile(inspect.currentframe())))\n",
    "parentdir = os.path.dirname(currentdir)\n",
    "sys.path.insert(0,currentdir+\"/Packages2\") \n",
    "from core.gradient_descent import *\n",
    "\n",
    "import tensorflow as tf\n",
    "def AWGN(steps, nbar, n_to_power):\n",
    "    noise  = np.random.normal(size= steps)\n",
    "    amp = nbar * n_to_power\n",
    "    noise = np.sqrt(amp) *noise\n",
    "    return noise\n",
    "gIs = np.transpose(np.concatenate((np.load(\"gtrajs_10ns.npy\"),np.load(\"gtrajs_10ns_1.npy\")), axis = 1))\n",
    "eIs = np.transpose(np.concatenate((np.load(\"etrajs_10ns.npy\"),np.load(\"etrajs_10ns_1.npy\")), axis = 1))\n",
    "\n",
    "\n",
    "num_traj = len(gIs)\n",
    "steps = len(gIs[0])\n",
    "for kk in range (num_traj):\n",
    "    gIs[kk] = gIs[kk] + AWGN(steps, 0, 0.2)\n",
    "    eIs[kk] = eIs[kk] + AWGN(steps, 0, 0.2)\n",
    "\n",
    "num_train = int(3*num_traj/4)\n",
    "g_train = gIs[0:num_train ]\n",
    "e_train = eIs[0:num_train ]\n",
    "g_test = gIs[num_train :]\n",
    "e_test = eIs[num_train:]\n",
    "\n",
    "g_labels = []\n",
    "e_labels = []\n",
    "for ii in range (num_traj):\n",
    "    \n",
    "    g_labels.append([1,0])\n",
    "    e_labels.append([0,1])\n",
    "\n",
    "g_train_labels = g_labels[0:num_train ]\n",
    "e_train_labels = e_labels[0:num_train ]\n",
    "g_test_labels = g_labels[num_train: ]\n",
    "e_test_labels = e_labels[num_train: ]\n",
    "all_train = np.concatenate((g_train,e_train))\n",
    "all_train_labels = np.concatenate((g_train_labels,e_train_labels))\n",
    "all_test = np.concatenate((g_test,e_test))\n",
    "all_test_labels = np.concatenate((g_test_labels,e_test_labels))\n",
    "\n",
    "def unison_shuffled_copies(a, b):\n",
    "    assert len(a) == len(b)\n",
    "    p = np.random.permutation(len(a))\n",
    "    return a[p], b[p]\n",
    "\n",
    "all_train, all_train_labels = unison_shuffled_copies(all_train, all_train_labels)\n",
    "all_test, all_test_labels = unison_shuffled_copies(all_test, all_test_labels)\n",
    "\n",
    "#ratios = np.linspace(0.1,1,100)\n",
    "ratios = [1]\n",
    "acs = []\n",
    "steps_0 = steps\n",
    "all_train_0 = all_train\n",
    "all_test_0 = all_test\n",
    "for r in ratios:\n",
    "    ratio = r\n",
    "    steps = int(ratio*steps_0)\n",
    "    all_train = all_train_0[:,0:steps]\n",
    "\n",
    "    all_test = all_test_0[:,0:steps]\n",
    "\n",
    "\n",
    "    rate = 0.5\n",
    "    x = tf.placeholder(tf.float32, [None, steps])\n",
    "    W = tf.Variable(tf.zeros([steps, 2]))\n",
    "    b = tf.Variable(tf.zeros([2]))\n",
    "    m = tf.Variable(tf.zeros([steps,2]))\n",
    "    y = tf.matmul(tf.square(x),m) + tf.matmul(x, W) + b\n",
    "    y =  tf.matmul(x, W) + b\n",
    "    y_ = tf.placeholder(tf.float32, [None, 2])\n",
    "    cross_entropy = tf.reduce_mean(tf.nn.softmax_cross_entropy_with_logits(labels=y_, logits=y))\n",
    "    opt = tf.train.AdamOptimizer(learning_rate = rate, y = y )\n",
    "    train_step = opt.minimize(cross_entropy)\n",
    "    sess = tf.InteractiveSession(config = tf.ConfigProto(device_count = {'GPU': 0}))\n",
    "    tf.global_variables_initializer().run()\n",
    "\n",
    "    sess.run(train_step, feed_dict={x: all_train, y_: all_train_labels})\n",
    "    correct_prediction = tf.equal(tf.argmax(y, 1), tf.argmax(y_, 1))\n",
    "    accuracy = tf.reduce_mean(tf.cast(correct_prediction, tf.float32))\n",
    "    ac, res, inpu  = (sess.run([accuracy,y,y_], feed_dict={x: all_test,\n",
    "                                      y_: all_test_labels}))\n",
    "    acs.append(2*ac -1)\n",
    "    print (2*ac-1)\n",
    "    \n",
    "    \n",
    "  "
   ]
  },
  {
   "cell_type": "code",
   "execution_count": null,
   "metadata": {
    "collapsed": false
   },
   "outputs": [],
   "source": []
  },
  {
   "cell_type": "code",
   "execution_count": null,
   "metadata": {
    "collapsed": false
   },
   "outputs": [],
   "source": []
  }
 ],
 "metadata": {
  "kernelspec": {
   "display_name": "Python 2",
   "language": "python",
   "name": "python2"
  },
  "language_info": {
   "codemirror_mode": {
    "name": "ipython",
    "version": 2
   },
   "file_extension": ".py",
   "mimetype": "text/x-python",
   "name": "python",
   "nbconvert_exporter": "python",
   "pygments_lexer": "ipython2",
   "version": "2.7.12"
  }
 },
 "nbformat": 4,
 "nbformat_minor": 0
}
