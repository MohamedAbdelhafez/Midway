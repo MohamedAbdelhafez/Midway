{
 "cells": [
  {
   "cell_type": "code",
   "execution_count": 2,
   "metadata": {
    "collapsed": false
   },
   "outputs": [
    {
     "name": "stderr",
     "output_type": "stream",
     "text": [
      "/usr/local/lib/python2.7/dist-packages/matplotlib/font_manager.py:273: UserWarning: Matplotlib is building the font cache using fc-list. This may take a moment.\n",
      "  warnings.warn('Matplotlib is building the font cache using fc-list. This may take a moment.')\n"
     ]
    }
   ],
   "source": [
    "import numpy as np\n",
    "import os,sys,inspect\n",
    "currentdir = os.path.dirname(os.path.abspath(inspect.getfile(inspect.currentframe())))\n",
    "parentdir = os.path.dirname(currentdir)\n",
    "sys.path.insert(0,currentdir+\"/Packages\") \n",
    "from main_grape.Grape_original import Grape"
   ]
  },
  {
   "cell_type": "code",
   "execution_count": 18,
   "metadata": {
    "collapsed": false
   },
   "outputs": [
    {
     "name": "stdout",
     "output_type": "stream",
     "text": [
      "(20000, 200)\n",
      "(20000, 200)\n",
      "200\n",
      "(30000, 200)\n",
      "(10000, 200)\n",
      "(15000, 200)\n",
      "(1000, 200)\n",
      "(10000, 200)\n"
     ]
    }
   ],
   "source": [
    "S_g = []\n",
    "S_e = []\n",
    "\n",
    "gIs = np.transpose(np.concatenate((np.load(\"gtrajs_10ns.npy\"),np.load(\"gtrajs_10ns_1.npy\")), axis = 1))\n",
    "eIs = np.transpose(np.concatenate((np.load(\"etrajs_10ns.npy\"),np.load(\"etrajs_10ns_1.npy\")), axis = 1))\n",
    "g_traj = np.mean(gIs, axis =0)\n",
    "e_traj = np.mean(eIs, axis = 0)\n",
    "diff = -(g_traj - e_traj)\n",
    "ratio = 1\n",
    "num_traj = len(gIs)\n",
    "steps = int(ratio*len(gIs[0]))\n",
    "num_train = int(3*num_traj/4)\n",
    "g_train = gIs[0:num_train ]\n",
    "e_train = eIs[0:num_train ]\n",
    "g_test = gIs[num_train :]\n",
    "e_test = eIs[num_train:]\n",
    "\n",
    "g_labels = []\n",
    "e_labels = []\n",
    "for ii in range (num_traj):\n",
    "    \n",
    "    g_labels.append([1,0])\n",
    "    e_labels.append([0,1])\n",
    "\n",
    "g_train_labels = g_labels[0:num_train ]\n",
    "e_train_labels = e_labels[0:num_train ]\n",
    "g_test_labels = g_labels[num_train: ]\n",
    "e_test_labels = e_labels[num_train: ]\n",
    "all_train = np.concatenate((g_train,e_train))\n",
    "all_train_labels = np.concatenate((g_train_labels,e_train_labels))\n",
    "all_test = np.concatenate((g_test,e_test))\n",
    "all_test_labels = np.concatenate((g_test_labels,e_test_labels))\n",
    "\n",
    "print(np.shape(gIs))\n",
    "print(np.shape(eIs))\n",
    "print(steps)\n",
    "print (np.shape(all_train))\n",
    "print (np.shape(all_test))\n",
    "print (np.shape(g_train))\n",
    "\n",
    "\n",
    "def batch_generator(ii, num_batches,  g_train, e_train, g_train_labels, e_train_labels, g_test, e_test, g_test_labels, e_test_labels):\n",
    "        len_train_batch = int(len(g_train)/num_batches)\n",
    "        len_test_batch = int(len(g_test)/num_batches)\n",
    "        start_train = ii*len_train_batch\n",
    "        end_train = (ii+1)*len_train_batch\n",
    "        start_test = ii*len_test_batch\n",
    "        end_test = (ii+1)*len_test_batch\n",
    "        all_train = np.concatenate((g_train[start_train:end_train],e_train[start_train:end_train]))\n",
    "        all_train_labels = np.concatenate((g_train_labels[start_train:end_train],e_train_labels[start_train:end_train]))\n",
    "        all_test = np.concatenate((g_test[start_test:end_test],e_test[start_test:end_test]))\n",
    "        all_test_labels = np.concatenate((g_test_labels[start_test:end_test],e_test_labels[start_test:end_test]))\n",
    "        return all_train, all_train_labels, all_test, all_test_labels\n",
    "    \n",
    "a,b,c,d = batch_generator(1, 10,  g_train, e_train, g_train_labels, e_train_labels, g_test, e_test, g_test_labels, e_test_labels)\n",
    "print np.shape(c)\n",
    "print (np.shape(all_test))\n"
   ]
  },
  {
   "cell_type": "code",
   "execution_count": 16,
   "metadata": {
    "collapsed": false
   },
   "outputs": [
    {
     "name": "stdout",
     "output_type": "stream",
     "text": [
      "midway2-\n",
      "0318-0321\n",
      "0355-0358\n",
      "0362-0366\n",
      "0231\n",
      "['midway2-0318', 'midway2-0319', 'midway2-0320', 'midway2-0321', 'midway2-0355', 'midway2-0356', 'midway2-0357', 'midway2-0358', 'midway2-0362', 'midway2-0363', 'midway2-0364', 'midway2-0365', 'midway2-0366', 'midway2-0231']\n"
     ]
    }
   ],
   "source": [
    "tf_hostlist = \"midway2-[0318-0321,0355-0358,0362-0366,0231]\"\n",
    "foo = ( [pos for pos, char in enumerate(tf_hostlist) if char == ','])\n",
    "clusters = tf_hostlist.count(',')\n",
    "start_i = 9\n",
    "hosts =[]\n",
    "server = tf_hostlist[0:8]\n",
    "print(server)\n",
    "for ii in range (clusters+1):\n",
    "    if ii>0:\n",
    "        start_i = foo[ii-1]+1\n",
    "    if clusters==0:\n",
    "        end_i = len(tf_hostlist)-1\n",
    "    elif ii != clusters:\n",
    "        end_i = foo[ii]\n",
    "    else:\n",
    "        end_i = len(tf_hostlist)-1\n",
    "    string = tf_hostlist[start_i:end_i]\n",
    "    if (len(string) <5):\n",
    "        hosts.append(server+string)\n",
    "    else:\n",
    "        s = int(string[0:4])\n",
    "        e = int(string[6:10])\n",
    "        for jj in range (e-s+1):\n",
    "            hosts.append(server+str(s+jj).zfill(4))\n",
    "    print(tf_hostlist[start_i:end_i])\n",
    "print(hosts)"
   ]
  }
 ],
 "metadata": {
  "kernelspec": {
   "display_name": "Python 2",
   "language": "python",
   "name": "python2"
  },
  "language_info": {
   "codemirror_mode": {
    "name": "ipython",
    "version": 2
   },
   "file_extension": ".py",
   "mimetype": "text/x-python",
   "name": "python",
   "nbconvert_exporter": "python",
   "pygments_lexer": "ipython2",
   "version": "2.7.12"
  }
 },
 "nbformat": 4,
 "nbformat_minor": 0
}
