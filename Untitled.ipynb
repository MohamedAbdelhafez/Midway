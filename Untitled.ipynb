{
 "cells": [
  {
   "cell_type": "code",
   "execution_count": 2,
   "metadata": {
    "collapsed": false
   },
   "outputs": [
    {
     "name": "stderr",
     "output_type": "stream",
     "text": [
      "/usr/local/lib/python2.7/dist-packages/matplotlib/font_manager.py:273: UserWarning: Matplotlib is building the font cache using fc-list. This may take a moment.\n",
      "  warnings.warn('Matplotlib is building the font cache using fc-list. This may take a moment.')\n"
     ]
    }
   ],
   "source": [
    "import numpy as np\n",
    "import os,sys,inspect\n",
    "currentdir = os.path.dirname(os.path.abspath(inspect.getfile(inspect.currentframe())))\n",
    "parentdir = os.path.dirname(currentdir)\n",
    "sys.path.insert(0,currentdir+\"/Packages\") \n",
    "from main_grape.Grape_original import Grape"
   ]
  },
  {
   "cell_type": "code",
   "execution_count": 16,
   "metadata": {
    "collapsed": false
   },
   "outputs": [
    {
     "name": "stdout",
     "output_type": "stream",
     "text": [
      "midway2-\n",
      "0318-0321\n",
      "0355-0358\n",
      "0362-0366\n",
      "0231\n",
      "['midway2-0318', 'midway2-0319', 'midway2-0320', 'midway2-0321', 'midway2-0355', 'midway2-0356', 'midway2-0357', 'midway2-0358', 'midway2-0362', 'midway2-0363', 'midway2-0364', 'midway2-0365', 'midway2-0366', 'midway2-0231']\n"
     ]
    }
   ],
   "source": [
    "tf_hostlist = \"midway2-[0318-0321,0355-0358,0362-0366,0231]\"\n",
    "foo = ( [pos for pos, char in enumerate(tf_hostlist) if char == ','])\n",
    "clusters = tf_hostlist.count(',')\n",
    "start_i = 9\n",
    "hosts =[]\n",
    "server = tf_hostlist[0:8]\n",
    "print(server)\n",
    "for ii in range (clusters+1):\n",
    "    if ii>0:\n",
    "        start_i = foo[ii-1]+1\n",
    "    if clusters==0:\n",
    "        end_i = len(tf_hostlist)-1\n",
    "    elif ii != clusters:\n",
    "        end_i = foo[ii]\n",
    "    else:\n",
    "        end_i = len(tf_hostlist)-1\n",
    "    string = tf_hostlist[start_i:end_i]\n",
    "    if (len(string) <5):\n",
    "        hosts.append(server+string)\n",
    "    else:\n",
    "        s = int(string[0:4])\n",
    "        e = int(string[6:10])\n",
    "        for jj in range (e-s+1):\n",
    "            hosts.append(server+str(s+jj).zfill(4))\n",
    "    print(tf_hostlist[start_i:end_i])\n",
    "print(hosts)"
   ]
  }
 ],
 "metadata": {
  "kernelspec": {
   "display_name": "Python 2",
   "language": "python",
   "name": "python2"
  },
  "language_info": {
   "codemirror_mode": {
    "name": "ipython",
    "version": 2
   },
   "file_extension": ".py",
   "mimetype": "text/x-python",
   "name": "python",
   "nbconvert_exporter": "python",
   "pygments_lexer": "ipython2",
   "version": "2.7.12"
  }
 },
 "nbformat": 4,
 "nbformat_minor": 0
}
